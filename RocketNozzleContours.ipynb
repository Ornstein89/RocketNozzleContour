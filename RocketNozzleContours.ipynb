{
 "cells": [
  {
   "cell_type": "markdown",
   "id": "6640ea35-2fd0-4e72-b45a-c92a7f937f0b",
   "metadata": {},
   "source": [
    "# Initial conditions"
   ]
  },
  {
   "cell_type": "code",
   "execution_count": 1,
   "id": "93cbd9c3-055f-4c36-8d0e-3328f70f6fcf",
   "metadata": {},
   "outputs": [],
   "source": [
    "epsilon = 30.5 # area ratio, коэффициент расширения, отношение площади выходного сечения к площади сечения горловины\n",
    "r_throat_mm = 38.1/2.0 # throat diameter, диаметр горловины\n",
    "r_throat = 1.0\n",
    "l=11.94"
   ]
  },
  {
   "cell_type": "markdown",
   "id": "94ae751a-e3eb-4429-b5e3-aafa634f9b6f",
   "metadata": {},
   "source": [
    "# Truncated Ideal Contoured, TIC"
   ]
  },
  {
   "cell_type": "code",
   "execution_count": null,
   "id": "ecf9ef78-e34c-49f9-a5f7-522b0d108136",
   "metadata": {},
   "outputs": [],
   "source": []
  },
  {
   "cell_type": "markdown",
   "id": "7e3d7e61-3208-46a5-87fd-8eb6de5b8257",
   "metadata": {},
   "source": [
    "# Thrust Optimized Contoured, TOC, Rao\n",
    "\n",
    "Rao’s method, based on Method of Characteristics, MOC"
   ]
  },
  {
   "cell_type": "code",
   "execution_count": null,
   "id": "c559f628-1712-4de3-a8f7-e720ee7aa4c0",
   "metadata": {},
   "outputs": [],
   "source": []
  },
  {
   "cell_type": "code",
   "execution_count": null,
   "id": "3ff3191d-3ff4-424b-b115-b167113d0f5c",
   "metadata": {},
   "outputs": [],
   "source": []
  },
  {
   "cell_type": "code",
   "execution_count": null,
   "id": "34b8c892-9a0e-432b-bca2-8bf34e11a6bc",
   "metadata": {},
   "outputs": [],
   "source": []
  },
  {
   "cell_type": "markdown",
   "id": "edb138a2-85ad-4b85-acfc-b9ff1b3bfacb",
   "metadata": {},
   "source": [
    "# Thrust Optimized Parabolic, TOP"
   ]
  },
  {
   "cell_type": "code",
   "execution_count": 2,
   "id": "050904fa-3811-4951-85b9-4a86a93910bb",
   "metadata": {},
   "outputs": [],
   "source": [
    "import numpy as np\n",
    "from math import sin, cos, radians, sqrt, tan\n",
    "%matplotlib widget"
   ]
  },
  {
   "cell_type": "code",
   "execution_count": 3,
   "id": "a49b70bf-8bda-46ac-8a5e-649e9f792b93",
   "metadata": {},
   "outputs": [
    {
     "name": "stdout",
     "output_type": "stream",
     "text": [
      "0.245544866900258 11.7947 1.233955556881022 5.522680508593631\n"
     ]
    }
   ],
   "source": [
    "theta0_deg = 40\n",
    "x1 = 0.382*sin(radians(theta0_deg))\n",
    "y1 = 1.0 + (1.0 - cos(radians(theta0_deg)))\n",
    "x2 = 0.79*14.93\n",
    "y2 = sqrt(epsilon)\n",
    "print(x1, x2, y1, y2)"
   ]
  },
  {
   "cell_type": "raw",
   "id": "ac92d7c5-2947-4e1c-be07-cf83a157daa2",
   "metadata": {},
   "source": [
    "НЕ СРАБОТАЕТ, ПОТОМУ ЧТО ПАРАБОЛА ДОЛЖНА БЫТЬ НАКЛОННАЯ\n",
    "\n",
    "# подбор коэффициентов параболы\n",
    "# a0 + a1*x + a2*x^2 = y\n",
    "\n",
    "# a0 + a1*x1 + a2*x1^2 = y1\n",
    "# a0 + a1*x2 + a2*x2^2 = y2\n",
    "#  0 + a1*1  + 2*a2*x1 = tan(radians(40))\n",
    "\n",
    "# запишем в форме M*A = B\n",
    "\n",
    "M = np.array([[1.0,  x1,   x1**2],\n",
    "              [1.0,  x2,   x2**2],\n",
    "              [0.0,  1.0,  2.0*x1]], dtype = np.float64)\n",
    "B = np.array([y1, y2, tan(radians(40))], dtype = np.float64)\n",
    "A = np.linalg.solve(M, B)\n",
    "print(\"Parabolic approximation coeficients: \", A)"
   ]
  },
  {
   "cell_type": "markdown",
   "id": "e9d11e07-5ee1-412c-96d2-4d076245aa8c",
   "metadata": {},
   "source": [
    "Уравнение наклонной параболы:\n",
    "\n",
    "https://www.anirdesh.com/math/algebra/parabola-rotation.php\n",
    "\n",
    "Касательная (тагенс угла наклона) наклонной параболы:\n",
    "\n",
    "${tan(\\alpha)=\\dfrac{\\partial y}{\\partial x}=\\dfrac{\\partial y}{\\partial f(x,y)} \\cdot \\dfrac{\\partial f(x,y)}{\\partial x}}$\n",
    "\n",
    "https://docs.scipy.org/doc/scipy/reference/generated/scipy.optimize.root.html#scipy.optimize.root\n",
    "\n",
    "https://docs.scipy.org/doc/scipy/reference/generated/scipy.optimize.fsolve.html"
   ]
  },
  {
   "cell_type": "code",
   "execution_count": 80,
   "id": "1f15d438-c8e0-4f6c-b5c5-fc8b6bcc19a8",
   "metadata": {},
   "outputs": [],
   "source": [
    "# вектор состояния параболы p = [a, h, k, theta]\n",
    "\n",
    "def system_of_equations(p, *args):\n",
    "    \"\"\"\n",
    "    вектор параметров наклонной параболы p = [a, b, c, theta]\n",
    "    в уравнении -x*sin(theta)+y*cos(theta)=a*(x*cos(theta)+y*sin(theta)-h)**2+k\n",
    "    a(x*cos(theta) + y*sin(theta))**2 - (y*cos(theta) - x*sin(theta)) + b(x*cos(theta) + y*sin(theta)) + c = 0\n",
    "    \"\"\"\n",
    "    a = p[0]\n",
    "    b = p[1]\n",
    "    c = p[2]\n",
    "    theta = p[3]\n",
    "    \n",
    "    x1 = args[0]\n",
    "    x2 = args[1]\n",
    "    y1 = args[2]\n",
    "    y2 = args[3]\n",
    "    \n",
    "    tilted_parabola = lambda x, y: (\n",
    "        a*(x*cos(theta) + y*sin(theta))**2\n",
    "        - (y*cos(theta) - x*sin(theta))\n",
    "        + b*(x*cos(theta) + y*sin(theta))\n",
    "        + c)\n",
    "    \n",
    "    # tilted_parabola_ddx = lambda x, y: (\n",
    "    #     a * x**2 * cos(theta)**2 + a*y**2 * sin(theta)**2 + 2 * a * x * y * cos(theta) * sin(theta)\n",
    "    #     - y*cos(theta) + x*sin(theta)\n",
    "    #     + b*x*cos(theta) + b*y*sin(theta)\n",
    "    #     + c)\n",
    "    tilted_parabola_ddx = lambda x, y: (\n",
    "        2.0 * a * x * cos(theta)**2 + 2.0*a*y*cos(theta) * sin(theta)\n",
    "        + sin(theta)\n",
    "        + b*cos(theta)\n",
    "    )\n",
    "    tilted_parabola_ddy = lambda x, y: (\n",
    "        2.0*a*y*sin(theta)**2 + 2.0 * a * x * cos(theta) * sin(theta)\n",
    "        - cos(theta)\n",
    "        + b*sin(theta)\n",
    "    )\n",
    "    return [tilted_parabola(x1, y1), # координаты в стартовой точке\n",
    "            tilted_parabola(x2, y2), # координаты в финальной точке\n",
    "            tilted_parabola_ddx(x1, y1)/tilted_parabola_ddy(x1, y1) - tan(radians(40.0)),  # наклон в стартовой точке\n",
    "            tilted_parabola_ddx(x2, y2)/tilted_parabola_ddy(x2, y2) - tan(radians(8.0))]  # наклон в финальной точке\n"
   ]
  },
  {
   "cell_type": "code",
   "execution_count": 81,
   "id": "15ee9912-03ea-4e66-9582-3c30fc62d8c1",
   "metadata": {},
   "outputs": [
    {
     "data": {
      "text/plain": [
       "array([ 0.0953551 ,  0.08627729,  0.06418731, -2.10837281])"
      ]
     },
     "execution_count": 81,
     "metadata": {},
     "output_type": "execute_result"
    }
   ],
   "source": [
    "from scipy.optimize import fsolve, root\n",
    "# solution = fsolve(system_of_equations, [0.1, 0.1, 0.1, -3.14], args=(x1, x2, y1, y2))\n",
    "# solution\n",
    "solution = root(system_of_equations, [0.1, 0.1, 0.1, radians(-120)], args=(x1, x2, y1, y2), method='krylov', tol=1e-05)\n",
    "solution.x\n",
    "\n",
    "# наилучшие результаты: krylov, hybr"
   ]
  },
  {
   "cell_type": "code",
   "execution_count": 82,
   "id": "97cffc86-b1e4-4957-89d4-75eba085841a",
   "metadata": {},
   "outputs": [
    {
     "data": {
      "text/plain": [
       "array([0.3242197 , 0.51463081, 0.68853867, 0.84873671, 0.99730931,\n",
       "       1.13586078, 1.26565724, 1.3877187 , 1.50288129, 1.61184053,\n",
       "       1.71518239, 1.813406  , 1.9069407 , 1.99615896, 2.08138639,\n",
       "       2.16290962, 2.24098252, 2.31583125, 2.38765825, 2.45664566,\n",
       "       2.52295801, 2.58674452, 2.64814104, 2.70727168, 2.76425014,\n",
       "       2.81918093, 2.87216036, 2.92327743, 2.97261457, 3.02024829,\n",
       "       3.06624978, 3.11068541, 3.15361717, 3.19510306, 3.23519744,\n",
       "       3.27395135, 3.3114128 , 3.34762698, 3.38263651, 3.41648165,\n",
       "       3.44920045, 3.48082894, 3.51140127, 3.54094983, 3.56950542,\n",
       "       3.59709729, 3.6237533 , 3.64949999, 3.67436266, 3.69836548,\n",
       "       3.72153152, 3.74388284, 3.76544054, 3.78622485, 3.80625512,\n",
       "       3.82554994, 3.84412713, 3.86200379, 3.87919639, 3.89572072,\n",
       "       3.911592  , 3.92682487, 3.94143345, 3.95543131, 3.96883157,\n",
       "       3.98164686, 3.99388941, 4.00557098, 4.01670297, 4.02729638,\n",
       "       4.03736186, 4.04690971, 4.05594989, 4.06449205, 4.07254555,\n",
       "       4.08011945, 4.08722253, 4.09386331, 4.10005006, 4.10579079,\n",
       "       4.1110933 , 4.11596515, 4.1204137 , 4.12444607, 4.12806922,\n",
       "       4.13128991, 4.13411469, 4.13654996, 4.13860195, 4.14027671,\n",
       "       4.14158015, 4.14251801, 4.14309589, 4.14331925, 4.14319342,\n",
       "       4.14272359, 4.14191482, 4.14077205, 4.13930011, 4.13750369])"
      ]
     },
     "execution_count": 82,
     "metadata": {},
     "output_type": "execute_result"
    }
   ],
   "source": [
    "# построение точек профиля\n",
    "x_range = np.linspace(start = x1, stop = x2, num = 100)\n",
    "\n",
    "def tilted_parabola_fn(x, y, params):\n",
    "    \"\"\"\n",
    "    params = [a, b, c, theta]\n",
    "    \"\"\"\n",
    "    a = params[0]\n",
    "    b = params[1]\n",
    "    c = params[2]\n",
    "    theta = params[3]\n",
    "\n",
    "    result = (\n",
    "        a*(x*cos(theta) + y*sin(theta))**2\n",
    "        - (y*cos(theta) - x*sin(theta))\n",
    "        + b*(x*cos(theta) + y*sin(theta))\n",
    "        + c)\n",
    "    return result\n",
    "\n",
    "# y_sln = root(lambda y: tilted_parabola_fn(x = 2.0, y = y, params=solution.x), 0.0, method='hybr')\n",
    "# y_sln.x[0]\n",
    "\n",
    "def implicit_y_approximator(x, params):\n",
    "    y_sln = root(lambda y: tilted_parabola_fn(x = x, y = y, params=params), 0.0)\n",
    "    return y_sln.x[0]\n",
    "    \n",
    "# y_vectorized_approximator = np.vectorize(implicit_y_approximator)\n",
    "y_approximated = np.array([implicit_y_approximator(x, solution.x) for x in x_range])\n",
    "y_approximated"
   ]
  },
  {
   "cell_type": "code",
   "execution_count": 83,
   "id": "0453764d-cc18-4dd4-bd54-728bfedb9479",
   "metadata": {
    "jupyter": {
     "source_hidden": true
    }
   },
   "outputs": [],
   "source": [
    "test_array = [\n",
    "    [0.0,\t0.964],\n",
    "    [0.1,\t0.964],\n",
    "    [0.2,\t1.043],\n",
    "    [0.3,\t1.123],\n",
    "    [0.4,\t1.203],\n",
    "    [0.5,\t1.256],\n",
    "    [0.6,\t1.362],\n",
    "    [0.7,\t1.441],\n",
    "    [0.8,\t1.521],\n",
    "    [0.9,\t1.574],\n",
    "    [1.0,\t1.654],\n",
    "    [1.1,\t1.733],\n",
    "    [1.2,\t1.813],\n",
    "    [1.3,\t1.866],\n",
    "    [1.4,\t1.945],\n",
    "    [1.5,\t2.025],\n",
    "    [1.6,\t2.078],\n",
    "    [1.7,\t2.158],\n",
    "    [1.8,\t2.211],\n",
    "    [1.9,\t2.264],\n",
    "    [2.0,\t2.343],\n",
    "    [2.1,\t2.396],\n",
    "    [2.2,\t2.449],\n",
    "    [2.3,\t2.503],\n",
    "    [2.4,\t2.582],\n",
    "    [2.5,\t2.635],\n",
    "    [2.6,\t2.688],\n",
    "    [2.7,\t2.741],\n",
    "    [2.8,\t2.794],\n",
    "    [2.9,\t2.847],\n",
    "    [3.0,\t2.874],\n",
    "    [3.1,\t2.954],\n",
    "    [3.2,\t2.980],\n",
    "    [3.3,\t3.060],\n",
    "    [3.4,\t3.113],\n",
    "    [3.5,\t3.139],\n",
    "    [3.6,\t3.219],\n",
    "    [3.7,\t3.272],\n",
    "    [3.8,\t3.272],\n",
    "    [3.9,\t3.325],\n",
    "    [4.0,\t3.405],\n",
    "    [4.1,\t3.431],\n",
    "    [4.2,\t3.484],\n",
    "    [4.3,\t3.537],\n",
    "    [4.4,\t3.537],\n",
    "    [4.5,\t3.590],\n",
    "    [4.6,\t3.643],\n",
    "    [4.7,\t3.696],\n",
    "    [4.8,\t3.723],\n",
    "    [4.9,\t3.749],\n",
    "    [5.0,\t3.802],\n",
    "    [5.1,\t3.856],\n",
    "    [5.2,\t3.882],\n",
    "    [5.3,\t3.909],\n",
    "    [5.4,\t3.962],\n",
    "    [5.5,\t3.988],\n",
    "    [5.6,\t4.041],\n",
    "    [5.7,\t4.068],\n",
    "    [5.8,\t4.094],\n",
    "    [5.9,\t4.121],\n",
    "    [6.0,\t4.147],\n",
    "    [6.1,\t4.174],\n",
    "    [6.2,\t4.227],\n",
    "    [6.3,\t4.227],\n",
    "    [6.4,\t4.280],\n",
    "    [6.5,\t4.280],\n",
    "    [6.6,\t4.333],\n",
    "    [6.7,\t4.386],\n",
    "    [6.8,\t4.386],\n",
    "    [6.9,\t4.439],\n",
    "    [7.0,\t4.466],\n",
    "    [7.1,\t4.492],\n",
    "    [7.2,\t4.519],\n",
    "    [7.3,\t4.545],\n",
    "    [7.4,\t4.598],\n",
    "    [7.5,\t4.598],\n",
    "    [7.6,\t4.651],\n",
    "    [7.7,\t4.651],\n",
    "    [7.8,\t4.678],\n",
    "    [7.9,\t4.704],\n",
    "    [8.0,\t4.731],\n",
    "    [8.1,\t4.758],\n",
    "    [8.2,\t4.758],\n",
    "    [8.3,\t4.811],\n",
    "    [8.4,\t4.837],\n",
    "    [8.5,\t4.864],\n",
    "    [8.6,\t4.890],\n",
    "    [8.7,\t4.917],\n",
    "    [8.8,\t4.917],\n",
    "    [8.9,\t4.943],\n",
    "    [9.0,\t4.996],\n",
    "    [9.1,\t4.970],\n",
    "    [9.2,\t4.996],\n",
    "    [9.3,\t5.023],\n",
    "    [9.4,\t5.049],\n",
    "    [9.5,\t5.076],\n",
    "    [9.6,\t5.076],\n",
    "    [9.7,\t5.129],\n",
    "    [9.8,\t5.129],\n",
    "    [9.9,\t5.129],\n",
    "    [10.0,\t5.155],\n",
    "    [10.1,\t5.182],\n",
    "    [10.2,\t5.182],\n",
    "    [10.3,\t5.235],\n",
    "    [10.4,\t5.235],\n",
    "    [10.5,\t5.235],\n",
    "    [10.6,\t5.288],\n",
    "    [10.7,\t5.288],\n",
    "    [10.8,\t5.288],\n",
    "    [10.9,\t5.315],\n",
    "    [11.0,\t5.341],\n",
    "    [11.1,\t5.341],\n",
    "    [11.2,\t5.341],\n",
    "    [11.3,\t5.394],\n",
    "    [11.4,\t5.394],\n",
    "    [11.5,\t5.394],\n",
    "    [11.6,\t5.394],\n",
    "    [11.7,\t5.447],\n",
    "    [11.8,\t5.447],\n",
    "    [11.9,\t5.447],\n",
    "]"
   ]
  },
  {
   "cell_type": "code",
   "execution_count": 84,
   "id": "cf368ec0-9b83-41d6-9266-21436dec7839",
   "metadata": {},
   "outputs": [],
   "source": [
    "test_array = np.array(test_array, dtype=np.float64)"
   ]
  },
  {
   "cell_type": "code",
   "execution_count": 85,
   "id": "170065f4-46e3-4671-8304-11b42122917e",
   "metadata": {},
   "outputs": [
    {
     "data": {
      "application/vnd.jupyter.widget-view+json": {
       "model_id": "358b41628e414d5f838370e642bb57e7",
       "version_major": 2,
       "version_minor": 0
      },
      "image/png": "[encoded data removed]",
      "text/html": [
       "\n",
       "            <div style=\"display: inline-block;\">\n",
       "                <div class=\"jupyter-widgets widget-label\" style=\"text-align: center;\">\n",
       "                    Figure\n",
       "                </div>\n",
       "                <img src='data:image/png;base64,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' width=1100.0/>\n",
       "            </div>\n",
       "        "
      ],
      "text/plain": [
       "Canvas(toolbar=Toolbar(toolitems=[('Home', 'Reset original view', 'home', 'home'), ('Back', 'Back to previous …"
      ]
     },
     "metadata": {},
     "output_type": "display_data"
    }
   ],
   "source": [
    "from matplotlib import pyplot as plt\n",
    "plt.figure(figsize=(11, 6))\n",
    "plt.plot(test_array[:,0], test_array[:,1], '-b', linewidth=2, markersize=3, label='Данные из статьи')\n",
    "plt.plot(x_range, y_approximated, '-r', linewidth=1, markersize=3, label='Параболическая аппроксимация')\n",
    "\n",
    "plt.axis('equal')\n",
    "plt.ylim([0.0, 7.0])\n",
    "plt.legend()\n",
    "plt.grid()"
   ]
  },
  {
   "cell_type": "raw",
   "id": "8cde3256-7711-474f-863a-0f5ffd32fa9d",
   "metadata": {},
   "source": []
  }
 ],
 "metadata": {
  "kernelspec": {
   "display_name": "Python 3 (ipykernel)",
   "language": "python",
   "name": "python3"
  },
  "language_info": {
   "codemirror_mode": {
    "name": "ipython",
    "version": 3
   },
   "file_extension": ".py",
   "mimetype": "text/x-python",
   "name": "python",
   "nbconvert_exporter": "python",
   "pygments_lexer": "ipython3",
   "version": "3.10.8"
  }
 },
 "nbformat": 4,
 "nbformat_minor": 5
}

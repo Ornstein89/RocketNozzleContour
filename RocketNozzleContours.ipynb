{
 "cells": [
  {
   "cell_type": "markdown",
   "id": "6640ea35-2fd0-4e72-b45a-c92a7f937f0b",
   "metadata": {},
   "source": [
    "# Initial conditions"
   ]
  },
  {
   "cell_type": "code",
   "execution_count": 13,
   "id": "93cbd9c3-055f-4c36-8d0e-3328f70f6fcf",
   "metadata": {},
   "outputs": [],
   "source": [
    "epsilon = 30.5 # area ratio, коэффициент расширения, отношение площади выходного сечения к площади сечения горловины\n",
    "r_throat_mm = 38.1/2.0 # throat diameter, диаметр горловины\n",
    "r_throat = 1.0\n",
    "l=11.94"
   ]
  },
  {
   "cell_type": "markdown",
   "id": "94ae751a-e3eb-4429-b5e3-aafa634f9b6f",
   "metadata": {},
   "source": [
    "# Truncated Ideal Contoured, TIC"
   ]
  },
  {
   "cell_type": "code",
   "execution_count": null,
   "id": "ecf9ef78-e34c-49f9-a5f7-522b0d108136",
   "metadata": {},
   "outputs": [],
   "source": []
  },
  {
   "cell_type": "markdown",
   "id": "7e3d7e61-3208-46a5-87fd-8eb6de5b8257",
   "metadata": {},
   "source": [
    "# Thrust Optimized Contoured, TOC, Rao\n",
    "\n",
    "Rao’s method, based on Method of Characteristics, MOC"
   ]
  },
  {
   "cell_type": "code",
   "execution_count": null,
   "id": "c559f628-1712-4de3-a8f7-e720ee7aa4c0",
   "metadata": {},
   "outputs": [],
   "source": []
  },
  {
   "cell_type": "code",
   "execution_count": null,
   "id": "3ff3191d-3ff4-424b-b115-b167113d0f5c",
   "metadata": {},
   "outputs": [],
   "source": []
  },
  {
   "cell_type": "code",
   "execution_count": null,
   "id": "34b8c892-9a0e-432b-bca2-8bf34e11a6bc",
   "metadata": {},
   "outputs": [],
   "source": []
  },
  {
   "cell_type": "markdown",
   "id": "edb138a2-85ad-4b85-acfc-b9ff1b3bfacb",
   "metadata": {},
   "source": [
    "# Thrust Optimized Parabolic, TOP"
   ]
  },
  {
   "cell_type": "code",
   "execution_count": 14,
   "id": "050904fa-3811-4951-85b9-4a86a93910bb",
   "metadata": {},
   "outputs": [],
   "source": [
    "import numpy as np\n",
    "from math import sin, cos, radians, sqrt, tan\n",
    "%matplotlib widget"
   ]
  },
  {
   "cell_type": "code",
   "execution_count": 15,
   "id": "a49b70bf-8bda-46ac-8a5e-649e9f792b93",
   "metadata": {},
   "outputs": [
    {
     "name": "stdout",
     "output_type": "stream",
     "text": [
      "0.245544866900258 11.7947 1.233955556881022 5.522680508593631\n"
     ]
    }
   ],
   "source": [
    "theta0_deg = 40\n",
    "x1 = 0.382*sin(radians(theta0_deg))\n",
    "y1 = 1.0 + (1.0 - cos(radians(theta0_deg)))\n",
    "x2 = 0.79*14.93\n",
    "y2 = sqrt(epsilon)\n",
    "print(x1, x2, y1, y2)"
   ]
  },
  {
   "cell_type": "raw",
   "id": "ac92d7c5-2947-4e1c-be07-cf83a157daa2",
   "metadata": {},
   "source": [
    "НЕ СРАБОТАЕТ, ПОТОМУ ЧТО ПАРАБОЛА ДОЛЖНА БЫТЬ НАКЛОННАЯ\n",
    "\n",
    "# подбор коэффициентов параболы\n",
    "# a0 + a1*x + a2*x^2 = y\n",
    "\n",
    "# a0 + a1*x1 + a2*x1^2 = y1\n",
    "# a0 + a1*x2 + a2*x2^2 = y2\n",
    "#  0 + a1*1  + 2*a2*x1 = tan(radians(40))\n",
    "\n",
    "# запишем в форме M*A = B\n",
    "\n",
    "M = np.array([[1.0,  x1,   x1**2],\n",
    "              [1.0,  x2,   x2**2],\n",
    "              [0.0,  1.0,  2.0*x1]], dtype = np.float64)\n",
    "B = np.array([y1, y2, tan(radians(40))], dtype = np.float64)\n",
    "A = np.linalg.solve(M, B)\n",
    "print(\"Parabolic approximation coeficients: \", A)"
   ]
  },
  {
   "cell_type": "markdown",
   "id": "e9d11e07-5ee1-412c-96d2-4d076245aa8c",
   "metadata": {},
   "source": [
    "Уравнение наклонной параболы:\n",
    "\n",
    "https://www.anirdesh.com/math/algebra/parabola-rotation.php\n",
    "\n",
    "Касательная (тагенс угла наклона) наклонной параболы:\n",
    "\n",
    "${tan(\\alpha)=\\dfrac{\\partial y}{\\partial x}=\\dfrac{\\partial y}{\\partial f(x,y)} \\cdot \\dfrac{\\partial f(x,y)}{\\partial x}}$\n",
    "\n",
    "https://docs.scipy.org/doc/scipy/reference/generated/scipy.optimize.root.html#scipy.optimize.root\n",
    "\n",
    "https://docs.scipy.org/doc/scipy/reference/generated/scipy.optimize.fsolve.html"
   ]
  },
  {
   "cell_type": "code",
   "execution_count": 1,
   "id": "624e088d-9ba4-4dcb-9a84-20a3924f1f1d",
   "metadata": {},
   "outputs": [
    {
     "data": {
      "image/png": "[encoded data removed]",
      "text/latex": [
       "$\\displaystyle \\left( x, \\  y, \\  a, \\  b, \\  c, \\  \\vartheta\\right)$"
      ],
      "text/plain": [
       "(x, y, a, b, c, \\vartheta)"
      ]
     },
     "execution_count": 1,
     "metadata": {},
     "output_type": "execute_result"
    }
   ],
   "source": [
    "import sympy\n",
    "from sympy import *\n",
    "x_sym, y_sym, a_sym, b_sym, c_sym, t_sym = symbols('x y a b c \\\\vartheta')\n",
    "sympy.init_printing()\n",
    "x_sym, y_sym, a_sym, b_sym, c_sym, t_sym"
   ]
  },
  {
   "cell_type": "code",
   "execution_count": 2,
   "id": "4e194b40-dae1-426b-8b92-f4669d85509a",
   "metadata": {},
   "outputs": [
    {
     "data": {
      "image/png": "[encoded data removed]",
      "text/latex": [
       "$\\displaystyle a \\left(x \\cos{\\left(\\vartheta \\right)} + y \\sin{\\left(\\vartheta \\right)}\\right)^{2} + b \\left(x \\cos{\\left(\\vartheta \\right)} + y \\sin{\\left(\\vartheta \\right)}\\right) + c + x \\sin{\\left(\\vartheta \\right)} - y \\cos{\\left(\\vartheta \\right)}$"
      ],
      "text/plain": [
       "                                       2                                      \n",
       "a⋅(x⋅cos(\\vartheta) + y⋅sin(\\vartheta))  + b⋅(x⋅cos(\\vartheta) + y⋅sin(\\varthe\n",
       "\n",
       "                                              \n",
       "ta)) + c + x⋅sin(\\vartheta) - y⋅cos(\\vartheta)"
      ]
     },
     "execution_count": 2,
     "metadata": {},
     "output_type": "execute_result"
    }
   ],
   "source": [
    "# tilted parabola equation\n",
    "til_par_eqn = (a_sym*(x_sym*cos(t_sym) + y_sym*sin(t_sym))**2\n",
    "        - (y_sym*cos(t_sym) - x_sym*sin(t_sym))\n",
    "        + b_sym*(x_sym*cos(t_sym) + y_sym*sin(t_sym))\n",
    "        + c_sym)\n",
    "til_par_eqn"
   ]
  },
  {
   "cell_type": "code",
   "execution_count": 35,
   "id": "3d2a77ac-c3d2-47d2-a0ab-ddc669b1e670",
   "metadata": {},
   "outputs": [
    {
     "name": "stdout",
     "output_type": "stream",
     "text": [
      "-(a*x*cos(2*\\vartheta) + a*x + a*y*sin(2*\\vartheta) + b*cos(\\vartheta) + sin(\\vartheta))/(a*x*sin(2*\\vartheta) + 2*a*y*sin(\\vartheta)**2 + b*sin(\\vartheta) - cos(\\vartheta))\n"
     ]
    },
    {
     "data": {
      "image/png": "[encoded data removed]",
      "text/latex": [
       "$\\displaystyle - \\frac{a x \\cos{\\left(2 \\vartheta \\right)} + a x + a y \\sin{\\left(2 \\vartheta \\right)} + b \\cos{\\left(\\vartheta \\right)} + \\sin{\\left(\\vartheta \\right)}}{a x \\sin{\\left(2 \\vartheta \\right)} + 2 a y \\sin^{2}{\\left(\\vartheta \\right)} + b \\sin{\\left(\\vartheta \\right)} - \\cos{\\left(\\vartheta \\right)}}$"
      ],
      "text/plain": [
       "-(a⋅x⋅cos(2⋅\\vartheta) + a⋅x + a⋅y⋅sin(2⋅\\vartheta) + b⋅cos(\\vartheta) + sin(\\\n",
       "──────────────────────────────────────────────────────────────────────────────\n",
       "                                     2                                        \n",
       "     a⋅x⋅sin(2⋅\\vartheta) + 2⋅a⋅y⋅sin (\\vartheta) + b⋅sin(\\vartheta) - cos(\\va\n",
       "\n",
       "vartheta)) \n",
       "───────────\n",
       "           \n",
       "rtheta)    "
      ]
     },
     "execution_count": 35,
     "metadata": {},
     "output_type": "execute_result"
    }
   ],
   "source": [
    "# dF_dx = diff(til_par_eqn, x_sym)\n",
    "dF_dx = idiff(til_par_eqn, y_sym, x_sym).simplify()\n",
    "print(dF_dx)\n",
    "dF_dx"
   ]
  },
  {
   "cell_type": "code",
   "execution_count": 36,
   "id": "8341a7a5-b94c-4bba-877b-3354aa1dee9c",
   "metadata": {},
   "outputs": [
    {
     "name": "stdout",
     "output_type": "stream",
     "text": [
      "(-a*x*sin(2*\\vartheta) - 2*a*y*sin(\\vartheta)**2 - b*sin(\\vartheta) + cos(\\vartheta))/(2*a*x*cos(\\vartheta)**2 + a*y*sin(2*\\vartheta) + b*cos(\\vartheta) + sin(\\vartheta))\n"
     ]
    },
    {
     "data": {
      "image/png": "[encoded data removed]",
      "text/latex": [
       "$\\displaystyle \\frac{- a x \\sin{\\left(2 \\vartheta \\right)} - 2 a y \\sin^{2}{\\left(\\vartheta \\right)} - b \\sin{\\left(\\vartheta \\right)} + \\cos{\\left(\\vartheta \\right)}}{2 a x \\cos^{2}{\\left(\\vartheta \\right)} + a y \\sin{\\left(2 \\vartheta \\right)} + b \\cos{\\left(\\vartheta \\right)} + \\sin{\\left(\\vartheta \\right)}}$"
      ],
      "text/plain": [
       "                                 2                                            \n",
       "-a⋅x⋅sin(2⋅\\vartheta) - 2⋅a⋅y⋅sin (\\vartheta) - b⋅sin(\\vartheta) + cos(\\varthe\n",
       "──────────────────────────────────────────────────────────────────────────────\n",
       "          2                                                                   \n",
       " 2⋅a⋅x⋅cos (\\vartheta) + a⋅y⋅sin(2⋅\\vartheta) + b⋅cos(\\vartheta) + sin(\\varthe\n",
       "\n",
       "   \n",
       "ta)\n",
       "───\n",
       "   \n",
       "ta)"
      ]
     },
     "execution_count": 36,
     "metadata": {},
     "output_type": "execute_result"
    }
   ],
   "source": [
    "# dF_dy = diff(til_par_eqn, y_sym)\n",
    "dF_dy = idiff(til_par_eqn, x_sym, y_sym).simplify()\n",
    "print(dF_dy)\n",
    "dF_dy"
   ]
  },
  {
   "cell_type": "code",
   "execution_count": 37,
   "id": "41569a86-a971-4b3d-9d39-d06078a41e65",
   "metadata": {},
   "outputs": [
    {
     "data": {
      "image/png": "[encoded data removed]",
      "text/latex": [
       "$\\displaystyle \\frac{\\left(a x \\cos{\\left(2 \\vartheta \\right)} + a x + a y \\sin{\\left(2 \\vartheta \\right)} + b \\cos{\\left(\\vartheta \\right)} + \\sin{\\left(\\vartheta \\right)}\\right)^{2}}{\\left(a x \\sin{\\left(2 \\vartheta \\right)} - a y \\cos{\\left(2 \\vartheta \\right)} + a y + b \\sin{\\left(\\vartheta \\right)} - \\cos{\\left(\\vartheta \\right)}\\right)^{2}}$"
      ],
      "text/plain": [
       "                                                                              \n",
       "(a⋅x⋅cos(2⋅\\vartheta) + a⋅x + a⋅y⋅sin(2⋅\\vartheta) + b⋅cos(\\vartheta) + sin(\\v\n",
       "──────────────────────────────────────────────────────────────────────────────\n",
       "                                                                              \n",
       "(a⋅x⋅sin(2⋅\\vartheta) - a⋅y⋅cos(2⋅\\vartheta) + a⋅y + b⋅sin(\\vartheta) - cos(\\v\n",
       "\n",
       "         2\n",
       "artheta)) \n",
       "──────────\n",
       "         2\n",
       "artheta)) "
      ]
     },
     "execution_count": 37,
     "metadata": {},
     "output_type": "execute_result"
    }
   ],
   "source": [
    "dy_dx = dF_dx/dF_dy\n",
    "dy_dx.simplify()"
   ]
  },
  {
   "cell_type": "code",
   "execution_count": 16,
   "id": "1f15d438-c8e0-4f6c-b5c5-fc8b6bcc19a8",
   "metadata": {},
   "outputs": [],
   "source": [
    "# вектор состояния параболы p = [a, h, k, theta]\n",
    "\n",
    "def system_of_equations(p, *args):\n",
    "    \"\"\"\n",
    "    вектор параметров наклонной параболы p = [a, b, c, theta]\n",
    "    в уравнении -x*sin(theta)+y*cos(theta)=a*(x*cos(theta)+y*sin(theta)-h)**2+k\n",
    "    a(x*cos(theta) + y*sin(theta))**2 - (y*cos(theta) - x*sin(theta)) + b(x*cos(theta) + y*sin(theta)) + c = 0\n",
    "    \"\"\"\n",
    "    a = p[0]\n",
    "    b = p[1]\n",
    "    c = p[2]\n",
    "    theta = p[3]\n",
    "    \n",
    "    x1 = args[0]\n",
    "    x2 = args[1]\n",
    "    y1 = args[2]\n",
    "    y2 = args[3]\n",
    "    \n",
    "    tilted_parabola = lambda x, y: (\n",
    "        a*(x*cos(theta) + y*sin(theta))**2\n",
    "        - (y*cos(theta) - x*sin(theta))\n",
    "        + b*(x*cos(theta) + y*sin(theta))\n",
    "        + c)\n",
    "    \n",
    "    # tilted_parabola_ddx = lambda x, y: (\n",
    "    #     a * x**2 * cos(theta)**2 + a*y**2 * sin(theta)**2 + 2 * a * x * y * cos(theta) * sin(theta)\n",
    "    #     - y*cos(theta) + x*sin(theta)\n",
    "    #     + b*x*cos(theta) + b*y*sin(theta)\n",
    "    #     + c)\n",
    "    tilted_parabola_ddx = lambda x, y: (\n",
    "        2*a*(x*cos(theta) + y*sin(theta))*cos(theta)\n",
    "        + b*cos(theta) + sin(theta)\n",
    "    )\n",
    "    # tilted_parabola_ddy = lambda x, y: (\n",
    "    #     2.0*a*y*sin(theta)**2 + 2.0 * a * x * cos(theta) * sin(theta)\n",
    "    #     - cos(theta)\n",
    "    #     + b*sin(theta)\n",
    "    # )\n",
    "    tilted_parabola_ddy = lambda x, y: (\n",
    "        2*a*(x*cos(theta) + y*sin(theta))*sin(theta)\n",
    "        + b*sin(theta) - cos(theta)\n",
    "    )\n",
    "    return [tilted_parabola(x1, y1), # координаты в стартовой точке\n",
    "            tilted_parabola(x2, y2), # координаты в финальной точке\n",
    "            tilted_parabola_ddx(x1, y1)/tilted_parabola_ddy(x1, y1) - tan(radians(40.0)),  # наклон в стартовой точке\n",
    "            tilted_parabola_ddx(x2, y2)/tilted_parabola_ddy(x2, y2) - tan(radians(8.0))]  # наклон в финальной точке\n"
   ]
  },
  {
   "cell_type": "code",
   "execution_count": 22,
   "id": "15ee9912-03ea-4e66-9582-3c30fc62d8c1",
   "metadata": {},
   "outputs": [
    {
     "data": {
      "text/plain": [
       "array([-0.13176528, -4.81873144, -5.37269576, -1.46482211])"
      ]
     },
     "execution_count": 22,
     "metadata": {},
     "output_type": "execute_result"
    }
   ],
   "source": [
    "from scipy.optimize import fsolve, root\n",
    "# solution = fsolve(system_of_equations, [0.1, 0.1, 0.1, -3.14], args=(x1, x2, y1, y2))\n",
    "# solution\n",
    "solution = root(system_of_equations, [0.1, 0.1, 0.1, 0.0], args=(x1, x2, y1, y2), method='krylov', tol=1e-05)\n",
    "solution.x\n",
    "\n",
    "# наилучшие результаты: krylov, hybr"
   ]
  },
  {
   "cell_type": "code",
   "execution_count": 23,
   "id": "97cffc86-b1e4-4957-89d4-75eba085841a",
   "metadata": {},
   "outputs": [
    {
     "data": {
      "text/plain": [
       "array([1.26827805, 1.30760253, 1.34697042, 1.38638194, 1.42583729,\n",
       "       1.4653367 , 1.50488037, 1.54446853, 1.58410139, 1.62377918,\n",
       "       1.66350212, 1.70327043, 1.74308435, 1.78294409, 1.8228499 ,\n",
       "       1.86280199, 1.90280062, 1.94284601, 1.9829384 , 2.02307804,\n",
       "       2.06326516, 2.10350002, 2.14378285, 2.18411391, 2.22449345,\n",
       "       2.26492172, 2.30539897, 2.34592547, 2.38650148, 2.42712726,\n",
       "       2.46780306, 2.50852917, 2.54930584, 2.59013336, 2.63101199,\n",
       "       2.67194202, 2.71292371, 2.75395736, 2.79504325, 2.83618166,\n",
       "       2.87737288, 2.91861721, 2.95991495, 3.00126638, 3.04267181,\n",
       "       3.08413155, 3.12564589, 3.16721516, 3.20883966, 3.2505197 ,\n",
       "       3.2922556 , 3.3340477 , 3.3758963 , 3.41780173, 3.45976434,\n",
       "       3.50178444, 3.54386239, 3.58599851, 3.62819315, 3.67044666,\n",
       "       3.71275939, 3.75513169, 3.79756392, 3.84005645, 3.88260963,\n",
       "       3.92522383, 3.96789943, 4.01063681, 4.05343633, 4.09629839,\n",
       "       4.13922338, 4.18221168, 4.22526369, 4.26837981, 4.31156045,\n",
       "       4.35480601, 4.39811691, 4.44149356, 4.48493638, 4.52844581,\n",
       "       4.57202227, 4.61566619, 4.65937802, 4.7031582 , 4.74700718,\n",
       "       4.79092542, 4.83491338, 4.87897151, 4.9231003 , 4.96730021,\n",
       "       5.01157172, 5.05591533, 5.10033153, 5.1448208 , 5.18938366,\n",
       "       5.23402061, 5.27873217, 5.32351885, 5.36838119, 5.41331972])"
      ]
     },
     "execution_count": 23,
     "metadata": {},
     "output_type": "execute_result"
    }
   ],
   "source": [
    "# построение точек профиля\n",
    "x_range = np.linspace(start = x1, stop = x2, num = 100)\n",
    "\n",
    "def tilted_parabola_fn(x, y, params):\n",
    "    \"\"\"\n",
    "    params = [a, b, c, theta]\n",
    "    \"\"\"\n",
    "    a = params[0]\n",
    "    b = params[1]\n",
    "    c = params[2]\n",
    "    theta = params[3]\n",
    "\n",
    "    result = (\n",
    "        a*(x*cos(theta) + y*sin(theta))**2\n",
    "        - (y*cos(theta) - x*sin(theta))\n",
    "        + b*(x*cos(theta) + y*sin(theta))\n",
    "        + c)\n",
    "    return result\n",
    "\n",
    "# y_sln = root(lambda y: tilted_parabola_fn(x = 2.0, y = y, params=solution.x), 0.0, method='hybr')\n",
    "# y_sln.x[0]\n",
    "\n",
    "def implicit_y_approximator(x, params):\n",
    "    y_sln = root(lambda y: tilted_parabola_fn(x = x, y = y, params=params), 0.0)\n",
    "    return y_sln.x[0]\n",
    "    \n",
    "# y_vectorized_approximator = np.vectorize(implicit_y_approximator)\n",
    "y_approximated = np.array([implicit_y_approximator(x, solution.x) for x in x_range])\n",
    "y_approximated"
   ]
  },
  {
   "cell_type": "code",
   "execution_count": 24,
   "id": "0453764d-cc18-4dd4-bd54-728bfedb9479",
   "metadata": {
    "jupyter": {
     "source_hidden": true
    }
   },
   "outputs": [],
   "source": [
    "test_array = [\n",
    "    [0.0,\t0.964],\n",
    "    [0.1,\t0.964],\n",
    "    [0.2,\t1.043],\n",
    "    [0.3,\t1.123],\n",
    "    [0.4,\t1.203],\n",
    "    [0.5,\t1.256],\n",
    "    [0.6,\t1.362],\n",
    "    [0.7,\t1.441],\n",
    "    [0.8,\t1.521],\n",
    "    [0.9,\t1.574],\n",
    "    [1.0,\t1.654],\n",
    "    [1.1,\t1.733],\n",
    "    [1.2,\t1.813],\n",
    "    [1.3,\t1.866],\n",
    "    [1.4,\t1.945],\n",
    "    [1.5,\t2.025],\n",
    "    [1.6,\t2.078],\n",
    "    [1.7,\t2.158],\n",
    "    [1.8,\t2.211],\n",
    "    [1.9,\t2.264],\n",
    "    [2.0,\t2.343],\n",
    "    [2.1,\t2.396],\n",
    "    [2.2,\t2.449],\n",
    "    [2.3,\t2.503],\n",
    "    [2.4,\t2.582],\n",
    "    [2.5,\t2.635],\n",
    "    [2.6,\t2.688],\n",
    "    [2.7,\t2.741],\n",
    "    [2.8,\t2.794],\n",
    "    [2.9,\t2.847],\n",
    "    [3.0,\t2.874],\n",
    "    [3.1,\t2.954],\n",
    "    [3.2,\t2.980],\n",
    "    [3.3,\t3.060],\n",
    "    [3.4,\t3.113],\n",
    "    [3.5,\t3.139],\n",
    "    [3.6,\t3.219],\n",
    "    [3.7,\t3.272],\n",
    "    [3.8,\t3.272],\n",
    "    [3.9,\t3.325],\n",
    "    [4.0,\t3.405],\n",
    "    [4.1,\t3.431],\n",
    "    [4.2,\t3.484],\n",
    "    [4.3,\t3.537],\n",
    "    [4.4,\t3.537],\n",
    "    [4.5,\t3.590],\n",
    "    [4.6,\t3.643],\n",
    "    [4.7,\t3.696],\n",
    "    [4.8,\t3.723],\n",
    "    [4.9,\t3.749],\n",
    "    [5.0,\t3.802],\n",
    "    [5.1,\t3.856],\n",
    "    [5.2,\t3.882],\n",
    "    [5.3,\t3.909],\n",
    "    [5.4,\t3.962],\n",
    "    [5.5,\t3.988],\n",
    "    [5.6,\t4.041],\n",
    "    [5.7,\t4.068],\n",
    "    [5.8,\t4.094],\n",
    "    [5.9,\t4.121],\n",
    "    [6.0,\t4.147],\n",
    "    [6.1,\t4.174],\n",
    "    [6.2,\t4.227],\n",
    "    [6.3,\t4.227],\n",
    "    [6.4,\t4.280],\n",
    "    [6.5,\t4.280],\n",
    "    [6.6,\t4.333],\n",
    "    [6.7,\t4.386],\n",
    "    [6.8,\t4.386],\n",
    "    [6.9,\t4.439],\n",
    "    [7.0,\t4.466],\n",
    "    [7.1,\t4.492],\n",
    "    [7.2,\t4.519],\n",
    "    [7.3,\t4.545],\n",
    "    [7.4,\t4.598],\n",
    "    [7.5,\t4.598],\n",
    "    [7.6,\t4.651],\n",
    "    [7.7,\t4.651],\n",
    "    [7.8,\t4.678],\n",
    "    [7.9,\t4.704],\n",
    "    [8.0,\t4.731],\n",
    "    [8.1,\t4.758],\n",
    "    [8.2,\t4.758],\n",
    "    [8.3,\t4.811],\n",
    "    [8.4,\t4.837],\n",
    "    [8.5,\t4.864],\n",
    "    [8.6,\t4.890],\n",
    "    [8.7,\t4.917],\n",
    "    [8.8,\t4.917],\n",
    "    [8.9,\t4.943],\n",
    "    [9.0,\t4.996],\n",
    "    [9.1,\t4.970],\n",
    "    [9.2,\t4.996],\n",
    "    [9.3,\t5.023],\n",
    "    [9.4,\t5.049],\n",
    "    [9.5,\t5.076],\n",
    "    [9.6,\t5.076],\n",
    "    [9.7,\t5.129],\n",
    "    [9.8,\t5.129],\n",
    "    [9.9,\t5.129],\n",
    "    [10.0,\t5.155],\n",
    "    [10.1,\t5.182],\n",
    "    [10.2,\t5.182],\n",
    "    [10.3,\t5.235],\n",
    "    [10.4,\t5.235],\n",
    "    [10.5,\t5.235],\n",
    "    [10.6,\t5.288],\n",
    "    [10.7,\t5.288],\n",
    "    [10.8,\t5.288],\n",
    "    [10.9,\t5.315],\n",
    "    [11.0,\t5.341],\n",
    "    [11.1,\t5.341],\n",
    "    [11.2,\t5.341],\n",
    "    [11.3,\t5.394],\n",
    "    [11.4,\t5.394],\n",
    "    [11.5,\t5.394],\n",
    "    [11.6,\t5.394],\n",
    "    [11.7,\t5.447],\n",
    "    [11.8,\t5.447],\n",
    "    [11.9,\t5.447],\n",
    "]"
   ]
  },
  {
   "cell_type": "code",
   "execution_count": 25,
   "id": "cf368ec0-9b83-41d6-9266-21436dec7839",
   "metadata": {},
   "outputs": [],
   "source": [
    "test_array = np.array(test_array, dtype=np.float64)"
   ]
  },
  {
   "cell_type": "code",
   "execution_count": 26,
   "id": "170065f4-46e3-4671-8304-11b42122917e",
   "metadata": {},
   "outputs": [
    {
     "data": {
      "application/vnd.jupyter.widget-view+json": {
       "model_id": "3df60320abff44d19be26223517034f8",
       "version_major": 2,
       "version_minor": 0
      },
      "image/png": "[encoded data removed]",
      "text/html": [
       "\n",
       "            <div style=\"display: inline-block;\">\n",
       "                <div class=\"jupyter-widgets widget-label\" style=\"text-align: center;\">\n",
       "                    Figure\n",
       "                </div>\n",
       "                <img src='data:image/png;base64,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' width=1100.0/>\n",
       "            </div>\n",
       "        "
      ],
      "text/plain": [
       "Canvas(toolbar=Toolbar(toolitems=[('Home', 'Reset original view', 'home', 'home'), ('Back', 'Back to previous …"
      ]
     },
     "metadata": {},
     "output_type": "display_data"
    }
   ],
   "source": [
    "from matplotlib import pyplot as plt\n",
    "plt.figure(figsize=(11, 6))\n",
    "plt.plot(test_array[:,0], test_array[:,1], '-b', linewidth=2, markersize=3, label='Данные из статьи')\n",
    "plt.plot(x_range, y_approximated, '-r', linewidth=1, markersize=3, label='Параболическая аппроксимация')\n",
    "\n",
    "plt.axis('equal')\n",
    "plt.ylim([0.0, 7.0])\n",
    "plt.legend()\n",
    "plt.grid()"
   ]
  },
  {
   "cell_type": "raw",
   "id": "8cde3256-7711-474f-863a-0f5ffd32fa9d",
   "metadata": {},
   "source": []
  }
 ],
 "metadata": {
  "kernelspec": {
   "display_name": "Python 3 (ipykernel)",
   "language": "python",
   "name": "python3"
  },
  "language_info": {
   "codemirror_mode": {
    "name": "ipython",
    "version": 3
   },
   "file_extension": ".py",
   "mimetype": "text/x-python",
   "name": "python",
   "nbconvert_exporter": "python",
   "pygments_lexer": "ipython3",
   "version": "3.10.8"
  }
 },
 "nbformat": 4,
 "nbformat_minor": 5
}
